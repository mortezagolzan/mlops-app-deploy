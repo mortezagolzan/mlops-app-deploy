{
 "cells": [
  {
   "cell_type": "code",
   "execution_count": 1,
   "id": "fac144c4",
   "metadata": {},
   "outputs": [],
   "source": [
    "import requests"
   ]
  },
  {
   "cell_type": "code",
   "execution_count": 2,
   "id": "7add189a",
   "metadata": {},
   "outputs": [
    {
     "data": {
      "text/plain": [
       "b'{\"item_id\":\"This is test\",\"sentiment\":\"positive\",\"user_id\":\"morteza@email.com\"}'"
      ]
     },
     "execution_count": 2,
     "metadata": {},
     "output_type": "execute_result"
    }
   ],
   "source": [
    "url = \"http://127.0.0.1:8000/get_sentiment/This%20is%20test\"\n",
    "params = {\n",
    "    \"user_id\": \"morteza@email.com\"\n",
    "}\n",
    "response = requests.get(url, params=params)\n",
    "\n",
    "response.content"
   ]
  },
  {
   "cell_type": "code",
   "execution_count": 12,
   "id": "24f8fd73",
   "metadata": {},
   "outputs": [
    {
     "data": {
      "text/plain": [
       "{'ip': '102.432.6.1',\n",
       " 'text': 'This is test',\n",
       " 'sentiment': 'positive',\n",
       " 'user_id': 'email@email.com'}"
      ]
     },
     "execution_count": 12,
     "metadata": {},
     "output_type": "execute_result"
    }
   ],
   "source": [
    "url = \"http://127.0.0.1:8000/get_twitter_sentiment\"\n",
    "\n",
    "params = {\n",
    "    \"text\":\"This is test\",\n",
    "    \"ip\":\"102.432.6.1\",\n",
    "    \"user_id\":\"email@email.com\"\n",
    "}\n",
    "\n",
    "headers = {\n",
    "    \"Content-Type\": \"application/json\"\n",
    "}\n",
    "response = requests.post(url, params=params, headers=headers)\n",
    "\n",
    "response.json()"
   ]
  },
  {
   "cell_type": "code",
   "execution_count": null,
   "id": "6ac13069",
   "metadata": {},
   "outputs": [],
   "source": []
  }
 ],
 "metadata": {
  "kernelspec": {
   "display_name": "env",
   "language": "python",
   "name": "python3"
  },
  "language_info": {
   "codemirror_mode": {
    "name": "ipython",
    "version": 3
   },
   "file_extension": ".py",
   "mimetype": "text/x-python",
   "name": "python",
   "nbconvert_exporter": "python",
   "pygments_lexer": "ipython3",
   "version": "3.11.0"
  }
 },
 "nbformat": 4,
 "nbformat_minor": 5
}
